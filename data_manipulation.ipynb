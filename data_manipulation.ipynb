{
 "cells": [
  {
   "cell_type": "code",
   "execution_count": 109,
   "metadata": {},
   "outputs": [],
   "source": [
    "import numpy as np\n",
    "import random\n",
    "import pandas as pd\n",
    "import seaborn as sns\n",
    "from scipy import stats\n",
    "from scipy.stats import norm, skew\n",
    "from matplotlib import pyplot as plt\n",
    "import seaborn as sns \n",
    "%matplotlib inline \n",
    "color = sns.color_palette()\n",
    "sns.set_style('darkgrid')\n",
    "from sklearn.model_selection import GridSearchCV,train_test_split\n",
    "import warnings\n",
    "warnings.filterwarnings(\"ignore\")\n",
    "from sklearn.preprocessing import MinMaxScaler"
   ]
  },
  {
   "cell_type": "code",
   "execution_count": 110,
   "metadata": {},
   "outputs": [],
   "source": [
    "train_df = pd.read_csv('train.csv', index_col=0)\n",
    "predict_df = pd.read_csv('test.csv', index_col=0)\n",
    "y_org = train_df['SalePrice']\n",
    "y = np.log1p(train_df.pop('SalePrice'))"
   ]
  },
  {
   "cell_type": "code",
   "execution_count": 111,
   "metadata": {},
   "outputs": [],
   "source": [
    "# 3. Data cleaning\n",
    "\n",
    "## 3.1 Remove outliers \n",
    "\n",
    "data_all = [train_df,y,y_org]\n",
    "outlier1 = (train_df['LotFrontage']>250) & (y_org<300000)\n",
    "outlier2 = (train_df['BsmtFinSF1']>3000) & (y_org<200000)\n",
    "outlier3 = (train_df['1stFlrSF']>4000) & (y_org<200000)\n",
    "outlier4 = (train_df['GrLivArea']>4000) & (y_org<210000)\n",
    "outlier4 = (train_df['LotArea']>100000)\n",
    "outlier = outlier1|outlier2|outlier3|outlier4\n",
    "for dataframe in data_all:\n",
    "    dataframe.drop(outlier[outlier].index,inplace=True,errors='ignore')"
   ]
  },
  {
   "cell_type": "code",
   "execution_count": 112,
   "metadata": {},
   "outputs": [
    {
     "data": {
      "text/plain": [
       "(2913, 78)"
      ]
     },
     "execution_count": 112,
     "metadata": {},
     "output_type": "execute_result"
    }
   ],
   "source": [
    "## 3.2 Combine train data and predict data\n",
    "\n",
    "all_df = pd.concat((train_df,predict_df),axis=0)\n",
    "all_df.drop(columns='Utilities',inplace=True)\n",
    "\n",
    "train_df.shape\n",
    "\n",
    "predict_df.shape\n",
    "\n",
    "all_df.shape"
   ]
  },
  {
   "cell_type": "code",
   "execution_count": 113,
   "metadata": {},
   "outputs": [
    {
     "data": {
      "text/plain": [
       "PoolQC          2904\n",
       "MiscFeature     2810\n",
       "Alley           2715\n",
       "Fence           2342\n",
       "FireplaceQu     1420\n",
       "LotFrontage      483\n",
       "GarageCond       159\n",
       "GarageYrBlt      159\n",
       "GarageQual       159\n",
       "GarageFinish     159\n",
       "GarageType       157\n",
       "BsmtCond          82\n",
       "BsmtExposure      82\n",
       "BsmtQual          81\n",
       "BsmtFinType2      80\n",
       "BsmtFinType1      79\n",
       "MasVnrType        24\n",
       "MasVnrArea        23\n",
       "MSZoning           4\n",
       "BsmtHalfBath       2\n",
       "Functional         2\n",
       "BsmtFullBath       2\n",
       "BsmtUnfSF          1\n",
       "BsmtFinSF2         1\n",
       "BsmtFinSF1         1\n",
       "TotalBsmtSF        1\n",
       "Exterior2nd        1\n",
       "SaleType           1\n",
       "Exterior1st        1\n",
       "Electrical         1\n",
       "KitchenQual        1\n",
       "GarageCars         1\n",
       "GarageArea         1\n",
       "dtype: int64"
      ]
     },
     "execution_count": 113,
     "metadata": {},
     "output_type": "execute_result"
    }
   ],
   "source": [
    "## 3.3 Filling Nans which is not missing by random\n",
    "\n",
    "nan_all_df = all_df.isna().sum().sort_values(ascending=False)\n",
    "nan_all_df[nan_all_df>0]"
   ]
  },
  {
   "cell_type": "code",
   "execution_count": 114,
   "metadata": {},
   "outputs": [],
   "source": [
    "all_df['hasPool'] = 1\n",
    "all_df['hasMiscFeature'] = 1\n",
    "all_df['hasAlley'] = 1\n",
    "all_df['hasFence'] = 1\n",
    "all_df['hasFireplace'] = 1\n",
    "all_df['hasGarage'] = 1\n",
    "all_df['hasbsmt'] = 1\n",
    "all_df['hasPool'].loc[all_df.PoolQC.isna()] = 0\n",
    "all_df['hasMiscFeature'].loc[all_df.MiscFeature.isna()] = 0\n",
    "all_df['hasAlley'].loc[all_df.Alley.isna()] = 0\n",
    "all_df['hasFence'].loc[all_df.Fence.isna()] = 0\n",
    "all_df['hasFireplace'].loc[all_df.FireplaceQu.isna()] = 0\n",
    "all_df['hasGarage'].loc[all_df.GarageCond.isna()] = 0\n",
    "all_df['hasbsmt'].loc[all_df.BsmtExposure.isna()] = 0"
   ]
  },
  {
   "cell_type": "code",
   "execution_count": 115,
   "metadata": {},
   "outputs": [],
   "source": [
    "all_df.PoolQC.fillna('NoPool',inplace=True)\n",
    "all_df.MiscFeature.fillna('NoMiscFeature',inplace=True)\n",
    "all_df.Alley.fillna('NoAlley',inplace=True)\n",
    "all_df.Fence.fillna('NoFence',inplace=True)\n",
    "all_df.FireplaceQu.fillna('NoFireplace',inplace=True)\n",
    "all_df.GarageCond.fillna('NoGarage',inplace=True)\n",
    "all_df.GarageQual.fillna('NoGarage',inplace=True)\n",
    "all_df.GarageFinish.fillna('NoGarage',inplace=True)\n",
    "all_df.GarageType.fillna('NoGarage',inplace=True)\n",
    "all_df.BsmtExposure.fillna('Nobsmt',inplace=True)\n",
    "all_df.BsmtCond.fillna('Nobsmt',inplace=True)\n",
    "all_df.BsmtQual.fillna('Nobsmt',inplace=True)\n",
    "all_df.BsmtFinType2.fillna('Nobsmt',inplace=True)\n",
    "all_df.BsmtFinType1.fillna('Nobsmt',inplace=True)"
   ]
  },
  {
   "cell_type": "code",
   "execution_count": 116,
   "metadata": {},
   "outputs": [],
   "source": [
    "## 3.4 Map string variables to numerical variables\n",
    "\n",
    "ExterQual_rep = {'Gd':3, 'TA':2, 'Ex':4, 'Fa':1}\n",
    "all_df.replace({\"ExterQual\": ExterQual_rep},inplace=True)\n",
    "\n",
    "ExterCond_rep = {'Gd':3, 'TA':2, 'Ex':4, 'Fa':1,'Po':0}\n",
    "all_df.replace({\"ExterCond\": ExterCond_rep},inplace=True)\n",
    "\n",
    "BsmtQual_rep = {'Gd':3, 'TA':2, 'Ex':4, 'Fa':1, 'Nobsmt':0}\n",
    "all_df.replace({\"BsmtQual\": BsmtQual_rep},inplace=True)\n",
    "\n",
    "BsmtCond_rep = {'TA':3, 'Gd':4, 'Nobsmt':0, 'Fa':2, 'Po':1}\n",
    "all_df.replace({\"BsmtCond\": BsmtCond_rep},inplace=True)\n",
    "\n",
    "BsmtExposure_rep = {'No':1, 'Gd':4, 'Mn':2, 'Av':3, 'Nobsmt':0}\n",
    "all_df.replace({\"BsmtExposure\": BsmtExposure_rep},inplace=True)\n",
    "\n",
    "HeatingQC_rep = {'Ex':4, 'Gd':3, 'TA':2, 'Fa':1, 'Po':0}\n",
    "all_df.replace({\"HeatingQC\": HeatingQC_rep},inplace=True)\n",
    "\n",
    "KitchenQual_rep = {'Gd':2, 'TA':1, 'Ex':3, 'Fa':0, 1492:0}\n",
    "all_df.replace({\"KitchenQual\": KitchenQual_rep},inplace=True)\n",
    "\n",
    "FireplaceQu_rep = {'NoFireplace':0, 'TA':3, 'Gd':4, 'Fa':2, 'Ex':5, 'Po':1}\n",
    "all_df.replace({\"FireplaceQu\": FireplaceQu_rep},inplace=True)\n",
    "\n",
    "GarageQual_rep = {'TA':3, 'Fa':2, 'Gd':4, 'NoGarage':0, 'Ex':5, 'Po':1}\n",
    "all_df.replace({\"GarageQual\": GarageQual_rep},inplace=True)\n",
    "\n",
    "GarageCond_rep = {'TA':3, 'Fa':2, 'NoGarage':0, 'Gd':4, 'Po':1, 'Ex':5}\n",
    "all_df.replace({\"GarageCond\": GarageCond_rep},inplace=True)\n",
    "\n",
    "PoolQC_rep = {'NoPool':0, 'Ex':3, 'Fa':1, 'Gd':2}\n",
    "all_df.replace({\"PoolQC\": PoolQC_rep},inplace=True)\n",
    "\n",
    "#Group by neighborhood and fill in missing value by the median LotFrontage of all the neighborhood\n",
    "all_df[\"LotFrontage\"] = all_df.groupby(\"Neighborhood\")[\"LotFrontage\"].transform(\n",
    "    lambda x: x.fillna(x.median()))\n",
    "\n",
    "for col in ('BsmtFinSF1', 'BsmtFinSF2', 'BsmtUnfSF','TotalBsmtSF', 'BsmtFullBath', 'BsmtHalfBath'):\n",
    "    all_df[col] = all_df[col].fillna(0)\n",
    "    \n",
    "all_df[\"MasVnrType\"] = all_df[\"MasVnrType\"].fillna(\"None\")\n",
    "all_df[\"MasVnrArea\"] = all_df[\"MasVnrArea\"].fillna(0)\n",
    "all_df['MSZoning'] = all_df['MSZoning'].fillna(all_df['MSZoning'].mode()[0])\n",
    "for col in ('GarageYrBlt','GarageArea', 'GarageCars'):\n",
    "    all_df[col] = all_df[col].fillna(0)\n",
    "    \n",
    "all_df[\"Functional\"] = all_df[\"Functional\"].fillna(\"Typ\")\n",
    "\n",
    "all_df['Electrical'] = all_df['Electrical'].fillna(all_df['Electrical'].mode()[0])\n",
    "\n",
    "all_df['KitchenQual'] = all_df['KitchenQual'].fillna(all_df['KitchenQual'].mode()[0])\n",
    "\n",
    "all_df['Exterior1st'] = all_df['Exterior1st'].fillna(all_df['Exterior1st'].mode()[0])\n",
    "all_df['Exterior2nd'] = all_df['Exterior2nd'].fillna(all_df['Exterior2nd'].mode()[0])\n",
    "\n",
    "all_df['SaleType'] = all_df['SaleType'].fillna(all_df['SaleType'].mode()[0])\n",
    "\n",
    "#all_df['GarageYrBlt'] = all_df['GarageYrBlt'].apply(lambda x: np.random.choice(train_df['GarageYrBlt'].loc[(y>11.3) & (y<11.7)].dropna()) if (np.isnan(x)) else x)"
   ]
  },
  {
   "cell_type": "code",
   "execution_count": 117,
   "metadata": {},
   "outputs": [],
   "source": [
    "#encode binary variables\n",
    "from sklearn.preprocessing import LabelEncoder\n",
    "cols = ('BsmtFinType1','BsmtFinType2', 'Functional', 'Fence',  'GarageFinish', 'LandSlope', 'LotShape', 'PavedDrive', 'Street', 'Alley', 'CentralAir', 'MSSubClass')\n",
    "# process columns, apply LabelEncoder to categorical features\n",
    "for c in cols:\n",
    "    lbl = LabelEncoder() \n",
    "    lbl.fit(list(all_df[c].values)) \n",
    "    all_df[c] = lbl.transform(list(all_df[c].values))\n"
   ]
  },
  {
   "cell_type": "code",
   "execution_count": 118,
   "metadata": {},
   "outputs": [],
   "source": [
    "# 4 Feature engineering \n",
    "\n",
    "## 4.1 Creading new features\n",
    "\n",
    "all_df['TotalSF'] = all_df['TotalBsmtSF'] + all_df['1stFlrSF'] + all_df['2ndFlrSF']\n",
    "all_df['TotalBathroom'] = all_df['BsmtFullBath'] + all_df['BsmtHalfBath'] + all_df['FullBath'] + all_df['HalfBath']"
   ]
  },
  {
   "cell_type": "code",
   "execution_count": 119,
   "metadata": {},
   "outputs": [],
   "source": [
    "## 4.2 remove the skewness in the distribution\n",
    "\n",
    "cat_feats = ['MSSubClass','MSZoning', 'LandContour', 'LotConfig','OverallCond', 'Neighborhood', 'Condition1',\n",
    "       'Condition2', 'BldgType', 'HouseStyle', 'RoofStyle', 'RoofMatl',\n",
    "       'Exterior1st', 'Exterior2nd', 'MasVnrType', 'Foundation', 'Heating',\n",
    "       'Electrical', 'GarageType', 'MiscFeature', 'MoSold', 'YrSold', 'SaleType', 'SaleCondition']\n",
    "num_feats = [x for x in list(all_df) if x not in cat_feats]"
   ]
  },
  {
   "cell_type": "code",
   "execution_count": 120,
   "metadata": {},
   "outputs": [],
   "source": [
    "conti_feats = ['LotFrontage', 'LotArea', 'YearBuilt', 'YearRemodAdd', 'MasVnrArea', 'BsmtFinSF1', 'BsmtFinSF2', 'BsmtUnfSF', 'TotalBsmtSF', '1stFlrSF', '2ndFlrSF', 'LowQualFinSF', 'GrLivArea','GarageYrBlt','GarageArea','WoodDeckSF', 'OpenPorchSF', 'EnclosedPorch', '3SsnPorch', 'ScreenPorch', 'PoolArea', 'MiscVal', 'TotalSF']"
   ]
  },
  {
   "cell_type": "code",
   "execution_count": 121,
   "metadata": {
    "scrolled": true
   },
   "outputs": [
    {
     "name": "stdout",
     "output_type": "stream",
     "text": [
      "\n",
      "Skew in numerical features: \n",
      "\n",
      "There are 63 skewed numerical features to Box Cox transform\n"
     ]
    }
   ],
   "source": [
    "# Check the skew of all numerical features\n",
    "skewed_feats = all_df[num_feats].apply(lambda x: skew(x.dropna())).sort_values(ascending=False)\n",
    "print(\"\\nSkew in numerical features: \\n\")\n",
    "skewness = pd.DataFrame({'Skew' :skewed_feats})\n",
    "skewness.head(10)\n",
    "\n",
    "skewness = skewness[abs(skewness) > 0.75]\n",
    "print(\"There are {} skewed numerical features to Box Cox transform\".format(skewness.shape[0]))\n",
    "\n",
    "from scipy.special import boxcox1p\n",
    "skewed_features = conti_feats;#skewness.index\n",
    "lam = 0.15\n",
    "for feat in skewed_features:\n",
    "#     plt.figure()\n",
    "#     plt.subplot(1,2,1)\n",
    "#     sns.distplot(all_df[feat])\n",
    "#     plt.subplot(1,2,2)\n",
    "#     sns.distplot(boxcox1p(all_df[feat], lam))\n",
    "    all_df[feat] = boxcox1p(all_df[feat], lam)"
   ]
  },
  {
   "cell_type": "code",
   "execution_count": 122,
   "metadata": {},
   "outputs": [],
   "source": [
    "#all_df[num_feats] = MinMaxScaler().fit_transform(all_df[num_feats])"
   ]
  },
  {
   "cell_type": "code",
   "execution_count": 123,
   "metadata": {
    "scrolled": true
   },
   "outputs": [],
   "source": [
    "# for feat in num_feats:\n",
    "#     plt.figure()\n",
    "#     plt.scatter(all_df[feat].loc[train_df.index],y)\n",
    "#     plt.title(feat)\n",
    "#     plt.show"
   ]
  },
  {
   "cell_type": "code",
   "execution_count": 124,
   "metadata": {},
   "outputs": [
    {
     "data": {
      "text/plain": [
       "(2913, 266)"
      ]
     },
     "execution_count": 124,
     "metadata": {},
     "output_type": "execute_result"
    }
   ],
   "source": [
    "## 4.3 Creat one-hot coding for class variables \n",
    "\n",
    "all_df[cat_feats] = all_df[cat_feats].astype(str)\n",
    "all_dummy_df = pd.get_dummies(all_df)\n",
    "all_dummy_df.head()\n",
    "\n",
    "all_dummy_df.shape"
   ]
  },
  {
   "cell_type": "code",
   "execution_count": 125,
   "metadata": {},
   "outputs": [],
   "source": [
    "train = all_dummy_df.loc[train_df.index]\n",
    "predict = all_dummy_df.loc[predict_df.index]"
   ]
  },
  {
   "cell_type": "code",
   "execution_count": 126,
   "metadata": {},
   "outputs": [],
   "source": [
    "import numpy as np\n",
    "import pandas as pd\n",
    "from sklearn.linear_model import ElasticNet, Lasso,  BayesianRidge, LassoLarsIC\n",
    "from sklearn.svm import SVR\n",
    "from sklearn.ensemble import RandomForestRegressor,  GradientBoostingRegressor\n",
    "from sklearn.kernel_ridge import KernelRidge\n",
    "from sklearn.pipeline import make_pipeline\n",
    "from sklearn.preprocessing import RobustScaler\n",
    "from sklearn.base import BaseEstimator, TransformerMixin, RegressorMixin, clone\n",
    "from sklearn.model_selection import KFold, cross_val_score, train_test_split\n",
    "from sklearn.metrics import mean_squared_error\n",
    "from sklearn.model_selection import GridSearchCV,train_test_split\n",
    "import xgboost as xgb\n",
    "import lightgbm as lgb\n",
    "import seaborn as sns\n",
    "from sklearn.feature_selection import SelectKBest,f_regression,mutual_info_regression\n",
    "from sklearn.neighbors import KNeighborsRegressor\n",
    "import matplotlib.pyplot as plt\n",
    "%matplotlib inline"
   ]
  },
  {
   "cell_type": "code",
   "execution_count": 127,
   "metadata": {},
   "outputs": [],
   "source": [
    "n_folds = 5\n",
    "\n",
    "def rmsle_cv(model):\n",
    "    kf = KFold(n_folds, shuffle=True).get_n_splits(train.values)\n",
    "    rmse= np.sqrt(-cross_val_score(model, train.values, y.values, scoring=\"neg_mean_squared_error\", cv = kf))\n",
    "    return(rmse)\n",
    "\n",
    "class grid():\n",
    "    def __init__(self,model):\n",
    "        self.model = model\n",
    "    \n",
    "    def grid_get(self,param_grid):\n",
    "        kf = KFold(n_folds, shuffle=True, random_state=42).get_n_splits(train.values)\n",
    "        grid_search = GridSearchCV(self.model,param_grid,cv=kf, scoring=\"neg_mean_squared_error\", n_jobs=-1,verbose=2)\n",
    "        grid_search.fit(train.values, y.values)\n",
    "        print(grid_search.best_params_, np.sqrt(-grid_search.best_score_))\n",
    "        grid_search.cv_results_['mean_test_score'] = np.sqrt(-grid_search.cv_results_['mean_test_score'])\n",
    "        print(pd.DataFrame(grid_search.cv_results_)[['params','mean_test_score','std_test_score']])\n"
   ]
  },
  {
   "cell_type": "code",
   "execution_count": 128,
   "metadata": {},
   "outputs": [
    {
     "name": "stdout",
     "output_type": "stream",
     "text": [
      "Lasso score: 0.11635 (0.01100)\n",
      "\n"
     ]
    }
   ],
   "source": [
    "lasso = make_pipeline(RobustScaler(), Lasso(alpha =0.0007, random_state=1))\n",
    "score= rmsle_cv(lasso)\n",
    "print(\"Lasso score: {:.5f} ({:.5f})\\n\".format(score.mean(), score.std()))"
   ]
  },
  {
   "cell_type": "code",
   "execution_count": null,
   "metadata": {},
   "outputs": [],
   "source": []
  }
 ],
 "metadata": {
  "kernelspec": {
   "display_name": "Python 3",
   "language": "python",
   "name": "python3"
  },
  "language_info": {
   "codemirror_mode": {
    "name": "ipython",
    "version": 3
   },
   "file_extension": ".py",
   "mimetype": "text/x-python",
   "name": "python",
   "nbconvert_exporter": "python",
   "pygments_lexer": "ipython3",
   "version": "3.6.4"
  }
 },
 "nbformat": 4,
 "nbformat_minor": 2
}
